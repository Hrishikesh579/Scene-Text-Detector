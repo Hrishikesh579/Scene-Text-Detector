{
 "cells": [
  {
   "cell_type": "code",
   "execution_count": 2,
   "metadata": {},
   "outputs": [],
   "source": [
    "import cv2\n",
    "import numpy as np\n",
    "from imutils.object_detection import non_max_suppression\n",
    "\n",
    "east_model_path = \"frozen_east_text_detection.pb\"\n",
    "net = cv2.dnn.readNet(east_model_path)\n",
    "\n",
    "def detect_text(image):\n",
    "    orig = image.copy()\n",
    "    (H, W) = image.shape[:2]\n",
    "    \n",
    "    new_w, new_h = (320, 320)\n",
    "    rW, rH = W / float(new_w), H / float(new_h)\n",
    "    image = cv2.resize(image, (new_w, new_h))\n",
    "\n",
    "    layer_names = [\"feature_fusion/Conv_7/Sigmoid\", \"feature_fusion/concat_3\"]\n",
    "    blob = cv2.dnn.blobFromImage(image, 1.0, (320, 320), (123.68, 116.78, 103.94), swapRB=True, crop=False)\n",
    "    net.setInput(blob)\n",
    "    (scores, geometry) = net.forward(layer_names)\n",
    "\n",
    "    return orig, scores, geometry, rW, rH\n",
    "\n",
    "def decode_predictions(scores, geometry, min_confidence=0.5):\n",
    "    num_rows, num_cols = scores.shape[2:4]\n",
    "    rects, confidences = [], []\n",
    "\n",
    "    for y in range(num_rows):\n",
    "        for x in range(num_cols):\n",
    "            score = scores[0, 0, y, x]\n",
    "            if score < min_confidence:\n",
    "                continue\n",
    "\n",
    "            offset_x, offset_y = x * 4.0, y * 4.0\n",
    "            angle = geometry[0, 4, y, x]\n",
    "            cos, sin = np.cos(angle), np.sin(angle)\n",
    "            h, w = geometry[0, 0, y, x], geometry[0, 1, y, x]\n",
    "\n",
    "            end_x = int(offset_x + (cos * w) + (sin * h))\n",
    "            end_y = int(offset_y - (sin * w) + (cos * h))\n",
    "            start_x, start_y = int(end_x - w), int(end_y - h)\n",
    "\n",
    "            rects.append((start_x, start_y, end_x, end_y))\n",
    "            confidences.append(float(score))\n",
    "\n",
    "    return rects, confidences\n",
    "\n",
    "def apply_nms(rects, confidences, rW, rH):\n",
    "    boxes = np.array(rects)\n",
    "    boxes = non_max_suppression(boxes, probs=confidences)\n",
    "\n",
    "    scaled_boxes = [(int(start_x * rW), int(start_y * rH), int(end_x * rW), int(end_y * rH)) for (start_x, start_y, end_x, end_y) in boxes]\n",
    "    return scaled_boxes\n"
   ]
  }
 ],
 "metadata": {
  "kernelspec": {
   "display_name": "base",
   "language": "python",
   "name": "python3"
  },
  "language_info": {
   "codemirror_mode": {
    "name": "ipython",
    "version": 3
   },
   "file_extension": ".py",
   "mimetype": "text/x-python",
   "name": "python",
   "nbconvert_exporter": "python",
   "pygments_lexer": "ipython3",
   "version": "3.12.7"
  }
 },
 "nbformat": 4,
 "nbformat_minor": 2
}
