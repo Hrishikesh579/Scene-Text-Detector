{
 "cells": [
  {
   "cell_type": "code",
   "execution_count": 1,
   "metadata": {},
   "outputs": [],
   "source": [
    "import tensorflow as tf\n",
    "from tensorflow.keras.layers import Input, Conv2D, MaxPooling2D, Bidirectional, LSTM, Dense, Flatten\n",
    "from tensorflow.keras.models import Model\n",
    "\n",
    "def build_crnn_model(input_shape=(32, 128, 1), num_classes=37):\n",
    "    inputs = Input(shape=input_shape)\n",
    "\n",
    "    x = Conv2D(64, (3,3), activation=\"relu\", padding=\"same\")(inputs)\n",
    "    x = MaxPooling2D(pool_size=(2,2))(x)\n",
    "\n",
    "    x = Conv2D(128, (3,3), activation=\"relu\", padding=\"same\")(x)\n",
    "    x = MaxPooling2D(pool_size=(2,2))(x)\n",
    "\n",
    "    x = Conv2D(256, (3,3), activation=\"relu\", padding=\"same\")(x)\n",
    "    x = Flatten()(x)\n",
    "    \n",
    "    x = Bidirectional(LSTM(128, return_sequences=True))(x)\n",
    "    x = Bidirectional(LSTM(128))(x)\n",
    "\n",
    "    outputs = Dense(num_classes, activation=\"softmax\")(x)\n",
    "\n",
    "    model = Model(inputs, outputs)\n",
    "    return model\n"
   ]
  }
 ],
 "metadata": {
  "kernelspec": {
   "display_name": "DL",
   "language": "python",
   "name": "python3"
  },
  "language_info": {
   "codemirror_mode": {
    "name": "ipython",
    "version": 3
   },
   "file_extension": ".py",
   "mimetype": "text/x-python",
   "name": "python",
   "nbconvert_exporter": "python",
   "pygments_lexer": "ipython3",
   "version": "3.9.18"
  }
 },
 "nbformat": 4,
 "nbformat_minor": 2
}
